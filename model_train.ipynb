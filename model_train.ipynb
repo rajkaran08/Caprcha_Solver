{
  "nbformat": 4,
  "nbformat_minor": 0,
  "metadata": {
    "colab": {
      "name": "Untitled0.ipynb",
      "provenance": [],
      "collapsed_sections": []
    },
    "kernelspec": {
      "name": "python3",
      "display_name": "Python 3"
    },
    "language_info": {
      "name": "python"
    },
    "accelerator": "GPU"
  },
  "cells": [
    {
      "cell_type": "code",
      "metadata": {
        "colab": {
          "base_uri": "https://localhost:8080/"
        },
        "id": "0Bk19h-FYfYX",
        "outputId": "46e97790-59fb-4db8-f06b-13c7f82e82c4"
      },
      "source": [
        "import pickle\n",
        "import os.path\n",
        "import numpy as np\n",
        "import matplotlib.pyplot as plt\n",
        "import tensorflow as tf\n",
        "\n",
        "from sklearn.model_selection import train_test_split\n",
        "from tensorflow.python.keras.models import Sequential\n",
        "from tensorflow.python.keras.layers.convolutional import Conv2D, MaxPooling2D\n",
        "from tensorflow.python.keras.layers.core import Flatten, Dense\n",
        "import cv2\n",
        "import pandas as pd\n",
        "from mlxtend.data import loadlocal_mnist\n",
        "from tensorflow.keras.models import load_model\n",
        "\n",
        "\n",
        "X_train,Y_train=loadlocal_mnist(\n",
        "          images_path='/content/drive/MyDrive/captcha/dataset/emnist-byclass-train-images-idx3-ubyte',\n",
        "          labels_path='/content/drive/MyDrive/captcha/dataset/emnist-byclass-train-labels-idx1-ubyte'\n",
        ")\n",
        "X_test,Y_test=loadlocal_mnist(\n",
        "          images_path='/content/drive/MyDrive/captcha/dataset/emnist-byclass-test-images-idx3-ubyte',\n",
        "          labels_path='/content/drive/MyDrive/captcha/dataset/emnist-byclass-test-labels-idx1-ubyte'\n",
        ")\n",
        "\n",
        "X_train=X_train.reshape(len(X_train),28,28)\n",
        "X_test=X_test.reshape(len(X_test),28,28)\n",
        "for i in range(len(X_train)):\n",
        "    X_train[i]=np.transpose(X_train[i])\n",
        "for i in range(len(X_test)):\n",
        "    X_test[i]=np.transpose(X_test[i])\n",
        "X_train=X_train.reshape(len(X_train),28,28,1)/127.5-1.0\n",
        "X_test=X_test.reshape(len(X_test),28,28,1)/127.5-1.0\n",
        "\n",
        "\n",
        "label_category=np.array(['0','1','2','3','4','5','6','7','8','9','A','B','C','D','E','F','G','H','I','J','K','L','M','N','O','P','Q','R','S','T','U','V','W','X','Y','Z','a','b','d','d','e','f','g','h','i','j','k','l','m','n','o','p','q','r','s','t','u','v','w','x','y','z'])\n",
        "\n",
        "model = Sequential()\n",
        "\n",
        "\n",
        "model.add(Conv2D(40, (5, 5), padding=\"same\", input_shape=(28,28,1), activation=\"relu\"))\n",
        "model.add(MaxPooling2D(pool_size=(2, 2), strides=(2, 2))) \n",
        "\n",
        "\n",
        "model.add(Conv2D(30, (5, 5), padding=\"same\", activation=\"relu\"))\n",
        "model.add(MaxPooling2D(pool_size=(2, 2), strides=(2, 2)))\n",
        "\n",
        "model.add(Conv2D(20, (5, 5), padding=\"same\", activation=\"relu\"))\n",
        "model.add(MaxPooling2D(pool_size=(2, 2), strides=(2, 2)))\n",
        "\n",
        "model.add(Flatten())\n",
        "model.add(Dense(500, activation=\"relu\"))\n",
        "\n",
        "model.add(Dense(len(label_category), activation=\"softmax\"))\n",
        "\n",
        "\n",
        "\n",
        "model.compile(loss=\"sparse_categorical_crossentropy\", optimizer=\"adam\", metrics=[\"accuracy\"])\n",
        "\n",
        "\n",
        "model.fit(X_train, Y_train, validation_split=0.35,shuffle=True,batch_size=32, epochs=10)\n",
        "\n",
        "scores = model.evaluate(X_test, Y_test)\n",
        "print(\"score \",scores)\n",
        "\n",
        "\n",
        "\n",
        "\n",
        "\n"
      ],
      "execution_count": null,
      "outputs": [
        {
          "output_type": "stream",
          "text": [
            "Epoch 1/10\n",
            "14177/14177 [==============================] - 1187s 84ms/step - loss: 0.4899 - accuracy: 0.8303 - val_loss: 0.4095 - val_accuracy: 0.8519\n",
            "Epoch 2/10\n",
            "14177/14177 [==============================] - 1179s 83ms/step - loss: 0.3949 - accuracy: 0.8552 - val_loss: 0.3969 - val_accuracy: 0.8561\n",
            "Epoch 3/10\n",
            " 4993/14177 [=========>....................] - ETA: 11:24 - loss: 0.3744 - accuracy: 0.8609"
          ],
          "name": "stdout"
        }
      ]
    }
  ]
}