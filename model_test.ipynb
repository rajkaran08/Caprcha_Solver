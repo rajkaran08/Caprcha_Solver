{
  "nbformat": 4,
  "nbformat_minor": 0,
  "metadata": {
    "colab": {
      "name": "Untitled1.ipynb",
      "provenance": []
    },
    "kernelspec": {
      "name": "python3",
      "display_name": "Python 3"
    },
    "language_info": {
      "name": "python"
    }
  },
  "cells": [
    {
      "cell_type": "code",
      "metadata": {
        "colab": {
          "base_uri": "https://localhost:8080/"
        },
        "id": "p3Gp5vbLKYVz",
        "outputId": "d021c504-17fd-49e6-cd01-fdf91b0e91c0"
      },
      "source": [
        "import pickle\n",
        "import os.path\n",
        "import numpy as np\n",
        "import matplotlib.pyplot as plt\n",
        "#from imutils import paths\n",
        "\n",
        "import tensorflow as tf\n",
        "tf.test.gpu_device_name()\n",
        "\n",
        "from sklearn.model_selection import train_test_split\n",
        "from tensorflow.python.keras.models import Sequential\n",
        "from tensorflow.python.keras.layers.convolutional import Conv2D, MaxPooling2D\n",
        "from tensorflow.python.keras.layers.core import Flatten, Dense\n",
        "import cv2\n",
        "import pandas as pd\n",
        "from tensorflow.keras.models import load_model\n",
        "\n",
        "#model location____CHANGE_PATH_LOCATION_ACCORDINGLY\n",
        "model=load_model(\"/content/drive/MyDrive/captcha/mnist127.5_model.h5\")\n",
        "#model=load_model()\n",
        "\n",
        "def predict(img):\n",
        "    \n",
        "    label_category=np.array(['0','1','2','3','4','5','6','7','8','9','A','B','C','D','E','F','G','H','I','J','K','L','M','N','O','P','Q','R','S','T','U','V','W','X','Y','Z','a','b','d','d','e','f','g','h','i','j','k','l','m','n','o','p','q','r','s','t','u','v','w','x','y','z'])\n",
        "  \n",
        "    img=cv2.cvtColor(img,cv2.COLOR_BGR2GRAY)\n",
        "    img=cv2.resize(img,(500,300))\n",
        "    img0=cv2.GaussianBlur(img,(5,5),0)\n",
        "    _,thresh = cv2.threshold(img0,130, 255, cv2.THRESH_BINARY_INV)\n",
        "\n",
        "    thresh=cv2.dilate(thresh,(5,5),iterations=3)\n",
        "  \n",
        "    connectivity = 4\n",
        "    output = cv2.connectedComponentsWithStats(thresh, connectivity, cv2.CV_32S)\n",
        "    num_labels = output[0]\n",
        "    labels = output[1]\n",
        "    stats = output[2]\n",
        "    centroids = output[3]\n",
        "    captcha=[]\n",
        "    for i in range(1, num_labels):\n",
        "      a = stats[i, cv2.CC_STAT_AREA]\n",
        "      if a >50:\n",
        "          x = stats[i, cv2.CC_STAT_LEFT]\n",
        "          y = stats[i, cv2.CC_STAT_TOP]\n",
        "          w = stats[i, cv2.CC_STAT_WIDTH]\n",
        "          h = stats[i, cv2.CC_STAT_HEIGHT]\n",
        "      \n",
        "          if w*h >2000:\n",
        "            letter = thresh[y:y+h, x:x+w]\n",
        "            letter=cv2.dilate(letter,(10,10),iterations=6)\n",
        "            letter=cv2.copyMakeBorder(letter,12,12,12,12,cv2.BORDER_CONSTANT,value=0)\n",
        "            \n",
        "            letter=cv2.resize(letter,(28,28))\n",
        "  \n",
        "            letter=letter/127.5-1.0\n",
        "            letter = np.expand_dims(letter, axis=2)\n",
        "            letter= np.expand_dims(letter, axis=0)\n",
        "            prediction=model.predict_classes(letter)\n",
        "\n",
        "            captcha.append((x,label_category[prediction[0]]))\n",
        "\n",
        "    captcha = sorted(captcha, key=lambda x: x[0])\n",
        "    predicted_captcha=\"\"\n",
        "    for i in range(len(captcha)):\n",
        "      predicted_captcha=predicted_captcha+captcha[i][1]\n",
        "    \n",
        "    '''plt.imshow(img,cmap='gray')\n",
        "    plt.show()\n",
        "    print(\"CAPTCHA_PREDICTED is: \",predicted_captcha)'''\n",
        "    return predicted_captcha\n",
        "\n",
        "def test():\n",
        "\n",
        "    image_paths = [\"/content/drive/MyDrive/Copy of test1.png,/content/drive/MyDrive/Copy of test2.png,/content/drive/MyDrive/Copy of test3.png,/content/drive/MyDrive/Copy of test4.png\"]\n",
        "    correct_answers = [\"23AC\",\"0P4M\",\"FCLDEJ\",\"QP54\",\"AgTLCFI\"]\n",
        "    score = 0\n",
        "\n",
        "    for i,image_path in enumerate(image_paths):\n",
        "        image = cv2.imread(image_path) \n",
        "        answer = predict(image) \n",
        "        #print(\"answr is :\",answer)\n",
        "        if correct_answers[i] == answer:\n",
        "\n",
        "            score += 10\n",
        "    \n",
        "    print('The final score of the participant is',score)\n",
        "\n",
        "#......................................................FINAL MODEL PREDICTION......................................\n",
        "image=cv2.imread(\"/content/drive/MyDrive/Copy of test5.png\")\n",
        "print(\"predicted captcha\",predict(image))\n",
        "\n",
        "#if __name__ == \"__main__\":\n",
        "    #test()\n"
      ],
      "execution_count": 1,
      "outputs": [
        {
          "output_type": "stream",
          "text": [
            "/usr/local/lib/python3.7/dist-packages/tensorflow/python/keras/engine/sequential.py:455: UserWarning: `model.predict_classes()` is deprecated and will be removed after 2021-01-01. Please use instead:* `np.argmax(model.predict(x), axis=-1)`,   if your model does multi-class classification   (e.g. if it uses a `softmax` last-layer activation).* `(model.predict(x) > 0.5).astype(\"int32\")`,   if your model does binary classification   (e.g. if it uses a `sigmoid` last-layer activation).\n",
            "  warnings.warn('`model.predict_classes()` is deprecated and '\n"
          ],
          "name": "stderr"
        },
        {
          "output_type": "stream",
          "text": [
            "predicted captcha AgTLCFI\n"
          ],
          "name": "stdout"
        }
      ]
    }
  ]
}